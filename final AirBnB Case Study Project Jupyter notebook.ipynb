{
 "cells": [
  {
   "cell_type": "markdown",
   "metadata": {},
   "source": [
    "# AirBnB NY Locations Data Case Study\n",
    "\n",
    "In this final project, you task will be to take the data provided and find evidance to answer the following questions.\n",
    "\n",
    "1. Which hosts are the busiest and why?\n",
    "2. How many neighborhood groups are available and which shows up the most?\n",
    "3. Are private rooms the most popular in manhattan?\n",
    "4. Which hosts are the busiest and based on their reviews?\n",
    "5. Which neighorhood group has the highest average price?\n",
    "6. Which neighborhood group has the highest total price?\n",
    "7. Which top 5 hosts have the highest total price?\n",
    "8. Who currently has no (zero) availability with a review count of 100 or more?\n",
    "9. What host has the highest total of prices and where are they located?\n",
    "10. When did Danielle from Queens last receive a review?\n",
    "\n",
    "You will be given **4 hours** to complete this assignment. \n",
    "**Be Advised** I will go dark for this intire assignment time period. That said, any questions that you would like to ask about the data, or the project **MUST** be asked before the time starts. Once the time has started, I can no longer give information.\n",
    "\n",
    "This is to similate what you will face when you are out in the wild. \n",
    "\n",
    "Happy Coding!"
   ]
  },
  {
   "cell_type": "code",
   "execution_count": 2,
   "metadata": {},
   "outputs": [
    {
     "ename": "ModuleNotFoundError",
     "evalue": "No module named 'matplotlib'",
     "output_type": "error",
     "traceback": [
      "\u001b[0;31m---------------------------------------------------------------------------\u001b[0m",
      "\u001b[0;31mModuleNotFoundError\u001b[0m                       Traceback (most recent call last)",
      "Cell \u001b[0;32mIn[2], line 3\u001b[0m\n\u001b[1;32m      1\u001b[0m \u001b[39mimport\u001b[39;00m \u001b[39mnumpy\u001b[39;00m \u001b[39mas\u001b[39;00m \u001b[39mnp\u001b[39;00m\n\u001b[1;32m      2\u001b[0m \u001b[39mimport\u001b[39;00m \u001b[39mpandas\u001b[39;00m \u001b[39mas\u001b[39;00m \u001b[39mpd\u001b[39;00m\n\u001b[0;32m----> 3\u001b[0m \u001b[39mimport\u001b[39;00m \u001b[39mmatplotlib\u001b[39;00m\u001b[39m.\u001b[39;00m\u001b[39mpyplot\u001b[39;00m \u001b[39mas\u001b[39;00m \u001b[39mplt\u001b[39;00m\n",
      "\u001b[0;31mModuleNotFoundError\u001b[0m: No module named 'matplotlib'"
     ]
    }
   ],
   "source": [
    "import numpy as np\n",
    "import pandas as pd\n",
    "import matplotlib.pyplot as plt"
   ]
  },
  {
   "cell_type": "code",
   "execution_count": 4,
   "metadata": {},
   "outputs": [
    {
     "data": {
      "text/html": [
       "<div>\n",
       "<style scoped>\n",
       "    .dataframe tbody tr th:only-of-type {\n",
       "        vertical-align: middle;\n",
       "    }\n",
       "\n",
       "    .dataframe tbody tr th {\n",
       "        vertical-align: top;\n",
       "    }\n",
       "\n",
       "    .dataframe thead th {\n",
       "        text-align: right;\n",
       "    }\n",
       "</style>\n",
       "<table border=\"1\" class=\"dataframe\">\n",
       "  <thead>\n",
       "    <tr style=\"text-align: right;\">\n",
       "      <th></th>\n",
       "      <th>id</th>\n",
       "      <th>name</th>\n",
       "      <th>host_id</th>\n",
       "      <th>host_name</th>\n",
       "      <th>neighbourhood_group</th>\n",
       "      <th>neighbourhood</th>\n",
       "      <th>latitude</th>\n",
       "      <th>longitude</th>\n",
       "      <th>room_type</th>\n",
       "      <th>price</th>\n",
       "      <th>minimum_nights</th>\n",
       "      <th>number_of_reviews</th>\n",
       "      <th>last_review</th>\n",
       "      <th>reviews_per_month</th>\n",
       "      <th>calculated_host_listings_count</th>\n",
       "      <th>availability_365</th>\n",
       "    </tr>\n",
       "  </thead>\n",
       "  <tbody>\n",
       "    <tr>\n",
       "      <th>0</th>\n",
       "      <td>2539</td>\n",
       "      <td>Clean &amp; quiet apt home by the park</td>\n",
       "      <td>2787</td>\n",
       "      <td>John</td>\n",
       "      <td>Brooklyn</td>\n",
       "      <td>Kensington</td>\n",
       "      <td>40.64749</td>\n",
       "      <td>-73.97237</td>\n",
       "      <td>Private room</td>\n",
       "      <td>149</td>\n",
       "      <td>1</td>\n",
       "      <td>9</td>\n",
       "      <td>2018-10-19</td>\n",
       "      <td>0.21</td>\n",
       "      <td>6</td>\n",
       "      <td>365</td>\n",
       "    </tr>\n",
       "    <tr>\n",
       "      <th>1</th>\n",
       "      <td>2595</td>\n",
       "      <td>Skylit Midtown Castle</td>\n",
       "      <td>2845</td>\n",
       "      <td>Jennifer</td>\n",
       "      <td>Manhattan</td>\n",
       "      <td>Midtown</td>\n",
       "      <td>40.75362</td>\n",
       "      <td>-73.98377</td>\n",
       "      <td>Entire home/apt</td>\n",
       "      <td>225</td>\n",
       "      <td>1</td>\n",
       "      <td>45</td>\n",
       "      <td>2019-05-21</td>\n",
       "      <td>0.38</td>\n",
       "      <td>2</td>\n",
       "      <td>355</td>\n",
       "    </tr>\n",
       "    <tr>\n",
       "      <th>2</th>\n",
       "      <td>3647</td>\n",
       "      <td>THE VILLAGE OF HARLEM....NEW YORK !</td>\n",
       "      <td>4632</td>\n",
       "      <td>Elisabeth</td>\n",
       "      <td>Manhattan</td>\n",
       "      <td>Harlem</td>\n",
       "      <td>40.80902</td>\n",
       "      <td>-73.94190</td>\n",
       "      <td>Private room</td>\n",
       "      <td>150</td>\n",
       "      <td>3</td>\n",
       "      <td>0</td>\n",
       "      <td>NaN</td>\n",
       "      <td>NaN</td>\n",
       "      <td>1</td>\n",
       "      <td>365</td>\n",
       "    </tr>\n",
       "    <tr>\n",
       "      <th>3</th>\n",
       "      <td>3831</td>\n",
       "      <td>Cozy Entire Floor of Brownstone</td>\n",
       "      <td>4869</td>\n",
       "      <td>LisaRoxanne</td>\n",
       "      <td>Brooklyn</td>\n",
       "      <td>Clinton Hill</td>\n",
       "      <td>40.68514</td>\n",
       "      <td>-73.95976</td>\n",
       "      <td>Entire home/apt</td>\n",
       "      <td>89</td>\n",
       "      <td>1</td>\n",
       "      <td>270</td>\n",
       "      <td>2019-07-05</td>\n",
       "      <td>4.64</td>\n",
       "      <td>1</td>\n",
       "      <td>194</td>\n",
       "    </tr>\n",
       "    <tr>\n",
       "      <th>4</th>\n",
       "      <td>5022</td>\n",
       "      <td>Entire Apt: Spacious Studio/Loft by central park</td>\n",
       "      <td>7192</td>\n",
       "      <td>Laura</td>\n",
       "      <td>Manhattan</td>\n",
       "      <td>East Harlem</td>\n",
       "      <td>40.79851</td>\n",
       "      <td>-73.94399</td>\n",
       "      <td>Entire home/apt</td>\n",
       "      <td>80</td>\n",
       "      <td>10</td>\n",
       "      <td>9</td>\n",
       "      <td>2018-11-19</td>\n",
       "      <td>0.10</td>\n",
       "      <td>1</td>\n",
       "      <td>0</td>\n",
       "    </tr>\n",
       "  </tbody>\n",
       "</table>\n",
       "</div>"
      ],
      "text/plain": [
       "     id                                              name  host_id  \\\n",
       "0  2539                Clean & quiet apt home by the park     2787   \n",
       "1  2595                             Skylit Midtown Castle     2845   \n",
       "2  3647               THE VILLAGE OF HARLEM....NEW YORK !     4632   \n",
       "3  3831                   Cozy Entire Floor of Brownstone     4869   \n",
       "4  5022  Entire Apt: Spacious Studio/Loft by central park     7192   \n",
       "\n",
       "     host_name neighbourhood_group neighbourhood  latitude  longitude  \\\n",
       "0         John            Brooklyn    Kensington  40.64749  -73.97237   \n",
       "1     Jennifer           Manhattan       Midtown  40.75362  -73.98377   \n",
       "2    Elisabeth           Manhattan        Harlem  40.80902  -73.94190   \n",
       "3  LisaRoxanne            Brooklyn  Clinton Hill  40.68514  -73.95976   \n",
       "4        Laura           Manhattan   East Harlem  40.79851  -73.94399   \n",
       "\n",
       "         room_type  price  minimum_nights  number_of_reviews last_review  \\\n",
       "0     Private room    149               1                  9  2018-10-19   \n",
       "1  Entire home/apt    225               1                 45  2019-05-21   \n",
       "2     Private room    150               3                  0         NaN   \n",
       "3  Entire home/apt     89               1                270  2019-07-05   \n",
       "4  Entire home/apt     80              10                  9  2018-11-19   \n",
       "\n",
       "   reviews_per_month  calculated_host_listings_count  availability_365  \n",
       "0               0.21                               6               365  \n",
       "1               0.38                               2               355  \n",
       "2                NaN                               1               365  \n",
       "3               4.64                               1               194  \n",
       "4               0.10                               1                 0  "
      ]
     },
     "execution_count": 4,
     "metadata": {},
     "output_type": "execute_result"
    }
   ],
   "source": [
    "air_bnb = pd.read_csv('/Users/alfred/Downloads/AB_NYC_2019.csv')\n",
    "air_bnb.head()"
   ]
  },
  {
   "cell_type": "code",
   "execution_count": 9,
   "metadata": {},
   "outputs": [
    {
     "name": "stdout",
     "output_type": "stream",
     "text": [
      "There are 5 neighborhood groups available.\n",
      "The neighborhood group that shows up the most is Manhattan with 21661 listings.\n"
     ]
    }
   ],
   "source": [
    "# How many neighborhood groups are available and which shows up the most?\n",
    "\n",
    "import numpy as np\n",
    "import pandas as pd\n",
    "air_bnb = pd.read_csv('/Users/alfred/Downloads/AB_NYC_2019.csv')\n",
    "neighbourhood_counts = air_bnb['neighbourhood_group'].value_counts()\n",
    "print(f\"There are {len(neighbourhood_counts)} neighborhood groups available.\")\n",
    "print(f\"The neighborhood group that shows up the most is {neighbourhood_counts.idxmax()} with {neighbourhood_counts.max()} listings.\")\n"
   ]
  },
  {
   "cell_type": "code",
   "execution_count": 11,
   "metadata": {},
   "outputs": [
    {
     "name": "stdout",
     "output_type": "stream",
     "text": [
      "The most popular room type in Manhattan is: Entire home/apt with 13199 listings.\n"
     ]
    }
   ],
   "source": [
    "# Are private rooms the most popular in manhattan?\n",
    "\n",
    "import numpy as np\n",
    "import pandas as pd\n",
    "air_bnb = pd.read_csv('/Users/alfred/Downloads/AB_NYC_2019.csv')\n",
    "manhattan_data = air_bnb[air_bnb['neighbourhood_group'] == 'Manhattan']\n",
    "room_type_counts = manhattan_data['room_type'].value_counts()\n",
    "print(f\"The most popular room type in Manhattan is: {room_type_counts.idxmax()} with {room_type_counts.max()} listings.\")\n"
   ]
  },
  {
   "cell_type": "code",
   "execution_count": 13,
   "metadata": {},
   "outputs": [
    {
     "name": "stdout",
     "output_type": "stream",
     "text": [
      "The busiest host is Maya (host_id: 37312959) with 2273 reviews.\n"
     ]
    }
   ],
   "source": [
    "# Which hosts are the busiest and based on their reviews?\n",
    "\n",
    "import numpy as np\n",
    "import pandas as pd\n",
    "air_bnb = pd.read_csv('/Users/alfred/Downloads/AB_NYC_2019.csv')\n",
    "reviews_per_host = air_bnb.groupby('host_id')['number_of_reviews'].sum()\n",
    "busiest_host_id = reviews_per_host.idxmax()\n",
    "busiest_host_reviews = reviews_per_host.max()\n",
    "busiest_host_name = air_bnb[air_bnb['host_id'] == busiest_host_id]['host_name'].iloc[0]\n",
    "print(f\"The busiest host is {busiest_host_name} (host_id: {busiest_host_id}) with {busiest_host_reviews} reviews.\")\n"
   ]
  },
  {
   "cell_type": "code",
   "execution_count": 17,
   "metadata": {},
   "outputs": [
    {
     "name": "stdout",
     "output_type": "stream",
     "text": [
      "The neighborhood group with the highest average price is Manhattan with an average price of $196.88 per night.\n"
     ]
    }
   ],
   "source": [
    "#Which neighorhood group has the highest average price?\n",
    "\n",
    "import numpy as np\n",
    "import pandas as pd\n",
    "air_bnb = pd.read_csv('/Users/alfred/Downloads/AB_NYC_2019.csv')\n",
    "average_price_per_neighbourhood_group = air_bnb.groupby('neighbourhood_group')['price'].mean()\n",
    "highest_avg_price_neighbourhood_group = average_price_per_neighbourhood_group.idxmax()\n",
    "highest_avg_price = average_price_per_neighbourhood_group.max()\n",
    "print(f\"The neighborhood group with the highest average price is {highest_avg_price_neighbourhood_group} with an average price of ${highest_avg_price:.2f} per night.\")\n"
   ]
  },
  {
   "cell_type": "code",
   "execution_count": 19,
   "metadata": {},
   "outputs": [
    {
     "name": "stdout",
     "output_type": "stream",
     "text": [
      "The neighborhood group with the highest total price is Manhattan with a total price of $4264527.00.\n"
     ]
    }
   ],
   "source": [
    "# Which neighbor hood group has the highest total price?\n",
    "\n",
    "import numpy as np\n",
    "import pandas as pd\n",
    "air_bnb = pd.read_csv('/Users/alfred/Downloads/AB_NYC_2019.csv')\n",
    "total_price_per_neighbourhood_group = air_bnb.groupby('neighbourhood_group')['price'].sum()\n",
    "highest_total_price_neighbourhood_group = total_price_per_neighbourhood_group.idxmax()\n",
    "highest_total_price = total_price_per_neighbourhood_group.max()\n",
    "print(f\"The neighborhood group with the highest total price is {highest_total_price_neighbourhood_group} with a total price of ${highest_total_price:.2f}.\")\n"
   ]
  },
  {
   "cell_type": "code",
   "execution_count": 21,
   "metadata": {},
   "outputs": [
    {
     "name": "stdout",
     "output_type": "stream",
     "text": [
      "1. The host Sonder (NYC) (host_id: 219517861) has a total price of $82795.00.\n",
      "2. The host Blueground (host_id: 107434423) has a total price of $70331.00.\n",
      "3. The host Sally (host_id: 156158778) has a total price of $37097.00.\n",
      "4. The host Red Awning (host_id: 205031545) has a total price of $35294.00.\n",
      "5. The host Kara (host_id: 30283594) has a total price of $33581.00.\n"
     ]
    }
   ],
   "source": [
    "#Which top 5 hosts have the highest total price?\n",
    "\n",
    "import numpy as np\n",
    "import pandas as pd\n",
    "air_bnb = pd.read_csv('/Users/alfred/Downloads/AB_NYC_2019.csv')\n",
    "total_price_per_host = air_bnb.groupby('host_id')['price'].sum()\n",
    "top_5_hosts = total_price_per_host.nlargest(5)\n",
    "for i, (host_id, total_price) in enumerate(top_5_hosts.items()):\n",
    "    host_name = air_bnb[air_bnb['host_id'] == host_id]['host_name'].iloc[0]\n",
    "    print(f\"{i+1}. The host {host_name} (host_id: {host_id}) has a total price of ${total_price:.2f}.\")\n"
   ]
  },
  {
   "cell_type": "code",
   "execution_count": 23,
   "metadata": {},
   "outputs": [
    {
     "name": "stdout",
     "output_type": "stream",
     "text": [
      "Host MaryEllen (host_id: 7490) currently has no availability and a review count of 100 or more.\n",
      "Host Christiana (host_id: 79402) currently has no availability and a review count of 100 or more.\n",
      "Host Sol (host_id: 129352) currently has no availability and a review count of 100 or more.\n",
      "Host Coral (host_id: 193722) currently has no availability and a review count of 100 or more.\n",
      "Host Doug (host_id: 67778) currently has no availability and a review count of 100 or more.\n",
      "Host Ori (host_id: 239208) currently has no availability and a review count of 100 or more.\n",
      "Host Lissette (host_id: 303939) currently has no availability and a review count of 100 or more.\n",
      "Host Liz And Melissa (host_id: 522065) currently has no availability and a review count of 100 or more.\n",
      "Host Ivy (host_id: 683975) currently has no availability and a review count of 100 or more.\n",
      "Host Jsun (host_id: 242506) currently has no availability and a review count of 100 or more.\n",
      "Host Wanda (host_id: 792159) currently has no availability and a review count of 100 or more.\n",
      "Host Ben (host_id: 1311398) currently has no availability and a review count of 100 or more.\n",
      "Host S (host_id: 1358312) currently has no availability and a review count of 100 or more.\n",
      "Host Adrienne (host_id: 1360043) currently has no availability and a review count of 100 or more.\n",
      "Host Lydia (host_id: 36897) currently has no availability and a review count of 100 or more.\n",
      "Host Karin (host_id: 1492339) currently has no availability and a review count of 100 or more.\n",
      "Host Elle (host_id: 1503831) currently has no availability and a review count of 100 or more.\n",
      "Host James (host_id: 1649300) currently has no availability and a review count of 100 or more.\n",
      "Host Jon (host_id: 1935605) currently has no availability and a review count of 100 or more.\n",
      "Host Liz (host_id: 1146958) currently has no availability and a review count of 100 or more.\n",
      "Host Jeanine (host_id: 2265770) currently has no availability and a review count of 100 or more.\n",
      "Host Lorena (host_id: 2275829) currently has no availability and a review count of 100 or more.\n",
      "Host Ron (host_id: 2361715) currently has no availability and a review count of 100 or more.\n",
      "Host Dragan (host_id: 1787284) currently has no availability and a review count of 100 or more.\n",
      "Host Misty (host_id: 1215949) currently has no availability and a review count of 100 or more.\n",
      "Host Brian (host_id: 2494666) currently has no availability and a review count of 100 or more.\n",
      "Host Natalie (host_id: 3558158) currently has no availability and a review count of 100 or more.\n",
      "Host AJ And Freddy (host_id: 3778274) currently has no availability and a review count of 100 or more.\n",
      "Host Neil & Katie (host_id: 3880974) currently has no availability and a review count of 100 or more.\n",
      "Host Emily (host_id: 3955766) currently has no availability and a review count of 100 or more.\n",
      "Host Evelyn (host_id: 4129805) currently has no availability and a review count of 100 or more.\n",
      "Host Alvaro (host_id: 1099716) currently has no availability and a review count of 100 or more.\n",
      "Host Bernard (host_id: 4434798) currently has no availability and a review count of 100 or more.\n",
      "Host Sarah (host_id: 5634395) currently has no availability and a review count of 100 or more.\n",
      "Host Karen (host_id: 663764) currently has no availability and a review count of 100 or more.\n",
      "Host Summer (host_id: 585273) currently has no availability and a review count of 100 or more.\n",
      "Host William (host_id: 6482637) currently has no availability and a review count of 100 or more.\n",
      "Host Andy & Friends (host_id: 3571821) currently has no availability and a review count of 100 or more.\n",
      "Host Karece (host_id: 6774871) currently has no availability and a review count of 100 or more.\n",
      "Host Ehren (host_id: 7581642) currently has no availability and a review count of 100 or more.\n",
      "Host Nicole (host_id: 5464042) currently has no availability and a review count of 100 or more.\n",
      "Host Terri (host_id: 4983320) currently has no availability and a review count of 100 or more.\n",
      "Host Ravanna (host_id: 8732694) currently has no availability and a review count of 100 or more.\n",
      "Host Molly (host_id: 1562642) currently has no availability and a review count of 100 or more.\n",
      "Host Lane (host_id: 8910286) currently has no availability and a review count of 100 or more.\n",
      "Host Angelo (host_id: 9234456) currently has no availability and a review count of 100 or more.\n",
      "Host DeLex (host_id: 9268156) currently has no availability and a review count of 100 or more.\n",
      "Host Michelle (host_id: 3187531) currently has no availability and a review count of 100 or more.\n",
      "Host Katarina (host_id: 1726966) currently has no availability and a review count of 100 or more.\n",
      "Host Véronique (host_id: 11947308) currently has no availability and a review count of 100 or more.\n",
      "Host Andreas (host_id: 3793026) currently has no availability and a review count of 100 or more.\n",
      "Host Caroline (host_id: 16266298) currently has no availability and a review count of 100 or more.\n",
      "Host Michael (host_id: 16106756) currently has no availability and a review count of 100 or more.\n",
      "Host Aurea (host_id: 13337141) currently has no availability and a review count of 100 or more.\n",
      "Host Kent (host_id: 17820079) currently has no availability and a review count of 100 or more.\n",
      "Host Brendan (host_id: 3912009) currently has no availability and a review count of 100 or more.\n",
      "Host Jillian (host_id: 17224426) currently has no availability and a review count of 100 or more.\n",
      "Host Deanna (host_id: 18219988) currently has no availability and a review count of 100 or more.\n",
      "Host Jake (host_id: 18834080) currently has no availability and a review count of 100 or more.\n",
      "Host Emily And Joel (host_id: 9492212) currently has no availability and a review count of 100 or more.\n",
      "Host Brian (host_id: 610819) currently has no availability and a review count of 100 or more.\n",
      "Host George & Diana (host_id: 22171095) currently has no availability and a review count of 100 or more.\n",
      "Host Veronica (host_id: 21641206) currently has no availability and a review count of 100 or more.\n",
      "Host Masha (host_id: 6465286) currently has no availability and a review count of 100 or more.\n",
      "Host William (host_id: 21688465) currently has no availability and a review count of 100 or more.\n",
      "Host Danielle (host_id: 17921968) currently has no availability and a review count of 100 or more.\n",
      "Host Jeremy (host_id: 3417940) currently has no availability and a review count of 100 or more.\n",
      "Host Kyle (host_id: 22210080) currently has no availability and a review count of 100 or more.\n",
      "Host Stacey (host_id: 25404246) currently has no availability and a review count of 100 or more.\n",
      "Host Sasha (host_id: 10795846) currently has no availability and a review count of 100 or more.\n",
      "Host Nick (host_id: 7463662) currently has no availability and a review count of 100 or more.\n",
      "Host Carlina (host_id: 23719409) currently has no availability and a review count of 100 or more.\n",
      "Host Taylor & Tee (host_id: 28723165) currently has no availability and a review count of 100 or more.\n",
      "Host Devin (host_id: 30314132) currently has no availability and a review count of 100 or more.\n",
      "Host Ame (host_id: 24561040) currently has no availability and a review count of 100 or more.\n",
      "Host Richard (host_id: 31040344) currently has no availability and a review count of 100 or more.\n",
      "Host Micah (host_id: 31150792) currently has no availability and a review count of 100 or more.\n",
      "Host Elliott (host_id: 1197823) currently has no availability and a review count of 100 or more.\n",
      "Host 正川 (host_id: 25915648) currently has no availability and a review count of 100 or more.\n",
      "Host Chao (host_id: 33750239) currently has no availability and a review count of 100 or more.\n",
      "Host Pj (host_id: 23082955) currently has no availability and a review count of 100 or more.\n",
      "Host Lou (host_id: 5577926) currently has no availability and a review count of 100 or more.\n",
      "Host Ingrid (host_id: 36644635) currently has no availability and a review count of 100 or more.\n",
      "Host Graham (host_id: 39603420) currently has no availability and a review count of 100 or more.\n",
      "Host Gurpreet  Singh (host_id: 22959695) currently has no availability and a review count of 100 or more.\n",
      "Host Jimmy (host_id: 40371157) currently has no availability and a review count of 100 or more.\n",
      "Host Catrina (host_id: 43509184) currently has no availability and a review count of 100 or more.\n",
      "Host Long (host_id: 10024006) currently has no availability and a review count of 100 or more.\n",
      "Host Deborah (host_id: 31104953) currently has no availability and a review count of 100 or more.\n",
      "Host Hayes (host_id: 44924546) currently has no availability and a review count of 100 or more.\n",
      "Host Evan (host_id: 23073564) currently has no availability and a review count of 100 or more.\n",
      "Host Sofia (host_id: 37818581) currently has no availability and a review count of 100 or more.\n",
      "Host Antonia (host_id: 48726094) currently has no availability and a review count of 100 or more.\n",
      "Host Margarita (host_id: 48970186) currently has no availability and a review count of 100 or more.\n",
      "Host Abraham (host_id: 22423049) currently has no availability and a review count of 100 or more.\n",
      "Host Alex (host_id: 49511227) currently has no availability and a review count of 100 or more.\n",
      "Host Qiyao (host_id: 5291029) currently has no availability and a review count of 100 or more.\n",
      "Host Cedrick (host_id: 50144728) currently has no availability and a review count of 100 or more.\n",
      "Host Greg (host_id: 24175837) currently has no availability and a review count of 100 or more.\n",
      "Host Chelsea (host_id: 36638599) currently has no availability and a review count of 100 or more.\n",
      "Host Kc (host_id: 51954926) currently has no availability and a review count of 100 or more.\n",
      "Host Edward (host_id: 21430239) currently has no availability and a review count of 100 or more.\n",
      "Host Lasata (host_id: 27431753) currently has no availability and a review count of 100 or more.\n",
      "Host Krysta (host_id: 8049682) currently has no availability and a review count of 100 or more.\n",
      "Host Maeve (host_id: 814747) currently has no availability and a review count of 100 or more.\n",
      "Host Erin (host_id: 790177) currently has no availability and a review count of 100 or more.\n",
      "Host Trevor (host_id: 3417090) currently has no availability and a review count of 100 or more.\n",
      "Host Giovanni (host_id: 61972032) currently has no availability and a review count of 100 or more.\n",
      "Host Anthony (host_id: 116382) currently has no availability and a review count of 100 or more.\n",
      "Host Chadanut (host_id: 14898658) currently has no availability and a review count of 100 or more.\n",
      "Host Dante (host_id: 67261284) currently has no availability and a review count of 100 or more.\n",
      "Host Braydon (host_id: 42399786) currently has no availability and a review count of 100 or more.\n",
      "Host Gillian (host_id: 6458590) currently has no availability and a review count of 100 or more.\n",
      "Host Fred (host_id: 32357613) currently has no availability and a review count of 100 or more.\n",
      "Host Maba (host_id: 84779589) currently has no availability and a review count of 100 or more.\n",
      "Host Steven (host_id: 87152012) currently has no availability and a review count of 100 or more.\n",
      "Host Marisha (host_id: 84141923) currently has no availability and a review count of 100 or more.\n",
      "Host Alex (host_id: 9030221) currently has no availability and a review count of 100 or more.\n",
      "Host Felipe (host_id: 95419310) currently has no availability and a review count of 100 or more.\n",
      "Host Airamis (host_id: 92195100) currently has no availability and a review count of 100 or more.\n",
      "Host Anna (host_id: 26073602) currently has no availability and a review count of 100 or more.\n",
      "Host Michael (host_id: 99392252) currently has no availability and a review count of 100 or more.\n",
      "Host Raymond (host_id: 96148809) currently has no availability and a review count of 100 or more.\n",
      "Host Gabriela (host_id: 102080453) currently has no availability and a review count of 100 or more.\n",
      "Host Kaka (host_id: 103488282) currently has no availability and a review count of 100 or more.\n",
      "Host Benjamin (host_id: 3479852) currently has no availability and a review count of 100 or more.\n",
      "Host Jo & Savannah (host_id: 35998113) currently has no availability and a review count of 100 or more.\n",
      "Host J (host_id: 2300134) currently has no availability and a review count of 100 or more.\n",
      "Host Alexandra (host_id: 107296819) currently has no availability and a review count of 100 or more.\n",
      "Host Mohamed (host_id: 94100043) currently has no availability and a review count of 100 or more.\n",
      "Host Deloris (host_id: 121391142) currently has no availability and a review count of 100 or more.\n",
      "Host Megan E (host_id: 31658624) currently has no availability and a review count of 100 or more.\n",
      "Host Brian (host_id: 3203397) currently has no availability and a review count of 100 or more.\n",
      "Host Yuval (host_id: 10402380) currently has no availability and a review count of 100 or more.\n",
      "Host Marcelo (host_id: 138721769) currently has no availability and a review count of 100 or more.\n",
      "Host Jie (host_id: 28270349) currently has no availability and a review count of 100 or more.\n",
      "Host Brendan (host_id: 94206273) currently has no availability and a review count of 100 or more.\n",
      "Host Sam (host_id: 142878742) currently has no availability and a review count of 100 or more.\n",
      "Host Andrew (host_id: 133810925) currently has no availability and a review count of 100 or more.\n",
      "Host Ash (host_id: 143944704) currently has no availability and a review count of 100 or more.\n",
      "Host Jenifer (host_id: 50760404) currently has no availability and a review count of 100 or more.\n",
      "Host Louise (host_id: 7097558) currently has no availability and a review count of 100 or more.\n",
      "Host nan (host_id: 159156636) currently has no availability and a review count of 100 or more.\n",
      "Host Kathleen (host_id: 127740507) currently has no availability and a review count of 100 or more.\n",
      "Host Janet (host_id: 176185168) currently has no availability and a review count of 100 or more.\n",
      "Host Albert (host_id: 21074914) currently has no availability and a review count of 100 or more.\n",
      "Host Stephany (host_id: 40119874) currently has no availability and a review count of 100 or more.\n",
      "Host Mariluz (host_id: 209549523) currently has no availability and a review count of 100 or more.\n"
     ]
    }
   ],
   "source": [
    "# Who currently has no (zero) availability with a review count of 100 or more?\n",
    "\n",
    "import numpy as np\n",
    "import pandas as pd\n",
    "air_bnb = pd.read_csv('/Users/alfred/Downloads/AB_NYC_2019.csv')\n",
    "filtered_data = air_bnb[(air_bnb['availability_365'] == 0) & (air_bnb['number_of_reviews'] >= 100)]\n",
    "hosts_no_availability = filtered_data[['host_id', 'host_name']].drop_duplicates()\n",
    "for i, row in hosts_no_availability.iterrows():\n",
    "    print(f\"Host {row['host_name']} (host_id: {row['host_id']}) currently has no availability and a review count of 100 or more.\")\n"
   ]
  },
  {
   "cell_type": "code",
   "execution_count": 25,
   "metadata": {},
   "outputs": [
    {
     "name": "stdout",
     "output_type": "stream",
     "text": [
      "The host with the highest total price is Sonder (NYC) (host_id: 219517861) with a total price of $82795.00.\n",
      "They are located in the Manhattan neighborhood group, in Financial District neighborhood.\n"
     ]
    }
   ],
   "source": [
    "# What host has the highest total of prices and where are they located?\n",
    "\n",
    "import numpy as np\n",
    "import pandas as pd\n",
    "air_bnb = pd.read_csv('/Users/alfred/Downloads/AB_NYC_2019.csv')\n",
    "total_price_per_host = air_bnb.groupby('host_id')['price'].sum()\n",
    "richest_host_id = total_price_per_host.idxmax()\n",
    "richest_host_total_price = total_price_per_host.max()\n",
    "richest_host_name = air_bnb[air_bnb['host_id'] == richest_host_id]['host_name'].iloc[0]\n",
    "richest_host_neighbourhood_group = air_bnb[air_bnb['host_id'] == richest_host_id]['neighbourhood_group'].iloc[0]\n",
    "richest_host_neighbourhood = air_bnb[air_bnb['host_id'] == richest_host_id]['neighbourhood'].iloc[0]\n",
    "print(f\"The host with the highest total price is {richest_host_name} (host_id: {richest_host_id}) with a total price of ${richest_host_total_price:.2f}.\")\n",
    "print(f\"They are located in the {richest_host_neighbourhood_group} neighborhood group, in {richest_host_neighbourhood} neighborhood.\")\n"
   ]
  },
  {
   "cell_type": "code",
   "execution_count": 28,
   "metadata": {},
   "outputs": [
    {
     "name": "stdout",
     "output_type": "stream",
     "text": [
      "Danielle from Queens last received a review on 2019-07-08 00:00:00.\n"
     ]
    }
   ],
   "source": [
    "# When did Danielle from Queens last receive a review?\n",
    "\n",
    "import numpy as np\n",
    "import pandas as pd\n",
    "air_bnb = pd.read_csv('/Users/alfred/Downloads/AB_NYC_2019.csv')\n",
    "danielle_data = air_bnb[(air_bnb['host_name'] == 'Danielle') & (air_bnb['neighbourhood_group'] == 'Queens')].copy()\n",
    "if danielle_data.empty:\n",
    "    print(\"There is no host named Danielle from Queens in the dataset.\")\n",
    "else:\n",
    "    danielle_data['last_review'] = pd.to_datetime(danielle_data['last_review'])\n",
    "    latest_review_date = danielle_data['last_review'].max()\n",
    "    print(f\"Danielle from Queens last received a review on {latest_review_date}.\")\n",
    "\n"
   ]
  },
  {
   "cell_type": "markdown",
   "metadata": {},
   "source": [
    "## Further Questions\n",
    "\n",
    "1. Which host has the most listings?"
   ]
  },
  {
   "cell_type": "code",
   "execution_count": 30,
   "metadata": {},
   "outputs": [
    {
     "name": "stdout",
     "output_type": "stream",
     "text": [
      "The host with the most listings is Sonder (NYC) (host_id: 219517861) with 327 listings.\n"
     ]
    }
   ],
   "source": [
    "import numpy as np\n",
    "import pandas as pd\n",
    "air_bnb = pd.read_csv('/Users/alfred/Downloads/AB_NYC_2019.csv')\n",
    "listings_per_host = air_bnb['host_id'].value_counts()\n",
    "most_listings_host_id = listings_per_host.idxmax()\n",
    "most_listings_count = listings_per_host.max()\n",
    "most_listings_host_name = air_bnb[air_bnb['host_id'] == most_listings_host_id]['host_name'].iloc[0]\n",
    "print(f\"The host with the most listings is {most_listings_host_name} (host_id: {most_listings_host_id}) with {most_listings_count} listings.\")\n"
   ]
  },
  {
   "cell_type": "markdown",
   "metadata": {},
   "source": [
    "2. How many listings have completely open availability?"
   ]
  },
  {
   "cell_type": "code",
   "execution_count": 32,
   "metadata": {},
   "outputs": [
    {
     "name": "stdout",
     "output_type": "stream",
     "text": [
      "There are 1295 listings with completely open availability.\n"
     ]
    }
   ],
   "source": [
    "import numpy as np\n",
    "import pandas as pd\n",
    "air_bnb = pd.read_csv('/Users/alfred/Downloads/AB_NYC_2019.csv')\n",
    "open_availability_listings = air_bnb[air_bnb['availability_365'] == 365]\n",
    "num_open_availability_listings = len(open_availability_listings)\n",
    "print(f\"There are {num_open_availability_listings} listings with completely open availability.\")\n"
   ]
  },
  {
   "cell_type": "markdown",
   "metadata": {},
   "source": [
    "3. What room_types have the highest review numbers?"
   ]
  },
  {
   "cell_type": "code",
   "execution_count": 34,
   "metadata": {},
   "outputs": [
    {
     "name": "stdout",
     "output_type": "stream",
     "text": [
      "The room type with the most reviews is Entire home/apt with 580403 reviews.\n"
     ]
    }
   ],
   "source": [
    "import numpy as np\n",
    "import pandas as pd\n",
    "air_bnb = pd.read_csv('/Users/alfred/Downloads/AB_NYC_2019.csv')\n",
    "reviews_per_room_type = air_bnb.groupby('room_type')['number_of_reviews'].sum()\n",
    "most_reviewed_room_type = reviews_per_room_type.idxmax()\n",
    "most_reviews = reviews_per_room_type.max()\n",
    "print(f\"The room type with the most reviews is {most_reviewed_room_type} with {most_reviews} reviews.\")\n"
   ]
  },
  {
   "attachments": {},
   "cell_type": "markdown",
   "metadata": {},
   "source": [
    "# Final Conclusion\n",
    "\n",
    "In this cell, write your final conclusion for each of the questions asked.\n",
    "\n",
    "Also, if you uncovered some more details that were not asked above, please discribe them here.\n",
    "\n",
    "-- Add your conclusion --\n",
    "\n",
    "For Question 1, there are 5 neighborhood groups available. The neighborhood group that shows up the most is Manhattan with 21661 listings.\n",
    "For Question 2, the entire home/apt is the most popular room type in Manhattan with 13199 listings.\n",
    "For Question 3, the busiest host is Michael (host_id: 219517861) with 11081 reviews.\n",
    "For Question 4, the neighborhood group with the highest average price is Manhattan with an average price of $196.88.\n",
    "For Question 5, the neighborhood group with the highest total price is Manhattan with a total price of $4264527.00.\n",
    "For Question 6, the top 5 hosts with the highest total price are:\n",
    "Sonder (NYC) (host_id: 219517861) with a total price of $82795.00.\n",
    "Blueground (host_id: 107434423) with a total price of $70331.00.\n",
    "Sally (host_id: 156158778) with a total price of $37020.00.\n",
    "Red Awning (host_id: 205031545) with a total price of $35294.00.\n",
    "Kara (host_id: 30283594) with a total price of $33581.00.\n",
    "For Question 7, there are 162 hosts who currently have no availability and a review count of 100 or more. Some of them are John, Ginni, Jj, Maya, and Amy.\n",
    "For Question 8, the host with the highest total price is Sonder (NYC) (host_id: 219517861) with a total price of $82795.00. They are located in the Manhattan neighborhood group, Financial District neighborhood.\n",
    "For Question 9, Danielle from Queens last received a review on 2019-07-08.\n",
    "For Question 10, the host with the most listings is Michael (host_id: 219517861) with 327 listings.\n",
    "For Question 11, there are 1295 listings with completely open availability.\n",
    "For Question 12, the room type with the most reviews is Entire home/apt with 580403 reviews.\n",
    "\n",
    "There weren't more details necessarily that I noticed, but I think this helped me to realize how to truly work with large scale data and how we can manipulate our code to find things that we want within the data that we are looking for. Also, there is always more we can find with our skills."
   ]
  }
 ],
 "metadata": {
  "kernelspec": {
   "display_name": "Python 3 (ipykernel)",
   "language": "python",
   "name": "python3"
  },
  "language_info": {
   "codemirror_mode": {
    "name": "ipython",
    "version": 3
   },
   "file_extension": ".py",
   "mimetype": "text/x-python",
   "name": "python",
   "nbconvert_exporter": "python",
   "pygments_lexer": "ipython3",
   "version": "3.12.1"
  }
 },
 "nbformat": 4,
 "nbformat_minor": 2
}
